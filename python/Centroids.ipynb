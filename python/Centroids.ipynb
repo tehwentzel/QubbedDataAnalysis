{
 "cells": [
  {
   "cell_type": "code",
   "execution_count": 1,
   "metadata": {},
   "outputs": [],
   "source": [
    "import pandas as pd\n",
    "import numpy as np\n",
    "from Constants import *\n",
    "import re\n",
    "from glob import glob\n",
    "from re import findall, match, sub\n",
    "import json"
   ]
  },
  {
   "cell_type": "code",
   "execution_count": 2,
   "metadata": {},
   "outputs": [
    {
     "data": {
      "text/plain": [
       "'../data/'"
      ]
     },
     "execution_count": 2,
     "metadata": {},
     "output_type": "execute_result"
    }
   ],
   "source": [
    "Const.data_dir"
   ]
  },
  {
   "cell_type": "code",
   "execution_count": 6,
   "metadata": {},
   "outputs": [
    {
     "data": {
      "text/plain": [
       "{'distances': ['../data/CAMPRT_Centroids\\\\3\\\\3_distances.csv',\n",
       "  '../data/CAMPRT_Centroids\\\\10\\\\10_distances.csv',\n",
       "  '../data/CAMPRT_Centroids\\\\37\\\\37_distances.csv',\n",
       "  '../data/CAMPRT_Centroids\\\\46\\\\46_distances.csv',\n",
       "  '../data/CAMPRT_Centroids\\\\101\\\\101_distances.csv',\n",
       "  '../data/CAMPRT_Centroids\\\\112\\\\112_distances.csv',\n",
       "  '../data/CAMPRT_Centroids\\\\121\\\\121_distances.csv',\n",
       "  '../data/CAMPRT_Centroids\\\\2000\\\\2000_distances.csv',\n",
       "  '../data/CAMPRT_Centroids\\\\2016\\\\2016_distances.csv',\n",
       "  '../data/CAMPRT_Centroids\\\\5039\\\\5039_distances.csv',\n",
       "  '../data/CAMPRT_Centroids\\\\5041\\\\5041_distances.csv',\n",
       "  '../data/CAMPRT_Centroids\\\\5043\\\\5043_distances.csv',\n",
       "  '../data/CAMPRT_Centroids\\\\10009\\\\10009_distances.csv',\n",
       "  '../data/CAMPRT_Centroids\\\\10040\\\\10040_distances.csv',\n",
       "  '../data/CAMPRT_Centroids\\\\10041\\\\10041_distances.csv',\n",
       "  '../data/CAMPRT_Centroids\\\\10071\\\\10071_distances.csv',\n",
       "  '../data/CAMPRT_Centroids\\\\10080\\\\10080_distances.csv',\n",
       "  '../data/CAMPRT_Centroids\\\\10103\\\\10103_distances.csv',\n",
       "  '../data/CAMPRT_Centroids\\\\10129\\\\10129_distances.csv',\n",
       "  '../data/CAMPRT_Centroids\\\\10138\\\\10138_distances.csv',\n",
       "  '../data/CAMPRT_Centroids\\\\10143\\\\10143_distances.csv',\n",
       "  '../data/CAMPRT_Centroids\\\\10154\\\\10154_distances.csv',\n",
       "  '../data/CAMPRT_Centroids\\\\10155\\\\10155_distances.csv',\n",
       "  '../data/CAMPRT_Centroids\\\\10182\\\\10182_distances.csv',\n",
       "  '../data/CAMPRT_Centroids\\\\10184\\\\10184_distances.csv',\n",
       "  '../data/CAMPRT_Centroids\\\\10191\\\\10191_distances.csv',\n",
       "  '../data/CAMPRT_Centroids\\\\10193\\\\10193_distances.csv',\n",
       "  '../data/CAMPRT_Centroids\\\\10197\\\\10197_distances.csv',\n",
       "  '../data/CAMPRT_Centroids\\\\10199\\\\10199_distances.csv'],\n",
       " 'doses': ['../data/CAMPRT_Centroids\\\\3\\\\3_centroid.csv',\n",
       "  '../data/CAMPRT_Centroids\\\\10\\\\10_centroid.csv',\n",
       "  '../data/CAMPRT_Centroids\\\\37\\\\37_centroid.csv',\n",
       "  '../data/CAMPRT_Centroids\\\\46\\\\46_centroid.csv',\n",
       "  '../data/CAMPRT_Centroids\\\\101\\\\101_centroid.csv',\n",
       "  '../data/CAMPRT_Centroids\\\\112\\\\112_centroid.csv',\n",
       "  '../data/CAMPRT_Centroids\\\\121\\\\121_centroid.csv',\n",
       "  '../data/CAMPRT_Centroids\\\\2000\\\\2000_centroid.csv',\n",
       "  '../data/CAMPRT_Centroids\\\\2016\\\\2016_centroid.csv',\n",
       "  '../data/CAMPRT_Centroids\\\\5039\\\\5039_centroid.csv',\n",
       "  '../data/CAMPRT_Centroids\\\\5041\\\\5041_centroid.csv',\n",
       "  '../data/CAMPRT_Centroids\\\\5043\\\\5043_centroid.csv',\n",
       "  '../data/CAMPRT_Centroids\\\\10009\\\\10009_centroid.csv',\n",
       "  '../data/CAMPRT_Centroids\\\\10040\\\\10040_centroid.csv',\n",
       "  '../data/CAMPRT_Centroids\\\\10041\\\\10041_centroid.csv',\n",
       "  '../data/CAMPRT_Centroids\\\\10071\\\\10071_centroid.csv',\n",
       "  '../data/CAMPRT_Centroids\\\\10080\\\\10080_centroid.csv',\n",
       "  '../data/CAMPRT_Centroids\\\\10103\\\\10103_centroid.csv',\n",
       "  '../data/CAMPRT_Centroids\\\\10129\\\\10129_centroid.csv',\n",
       "  '../data/CAMPRT_Centroids\\\\10138\\\\10138_centroid.csv',\n",
       "  '../data/CAMPRT_Centroids\\\\10143\\\\10143_centroid.csv',\n",
       "  '../data/CAMPRT_Centroids\\\\10154\\\\10154_centroid.csv',\n",
       "  '../data/CAMPRT_Centroids\\\\10155\\\\10155_centroid.csv',\n",
       "  '../data/CAMPRT_Centroids\\\\10182\\\\10182_centroid.csv',\n",
       "  '../data/CAMPRT_Centroids\\\\10184\\\\10184_centroid.csv',\n",
       "  '../data/CAMPRT_Centroids\\\\10191\\\\10191_centroid.csv',\n",
       "  '../data/CAMPRT_Centroids\\\\10193\\\\10193_centroid.csv',\n",
       "  '../data/CAMPRT_Centroids\\\\10197\\\\10197_centroid.csv',\n",
       "  '../data/CAMPRT_Centroids\\\\10199\\\\10199_centroid.csv']}"
      ]
     },
     "execution_count": 6,
     "metadata": {},
     "output_type": "execute_result"
    }
   ],
   "source": [
    "def load_centroid_files(root = None):\n",
    "    root = Const.camprt_dir if root is None else root\n",
    "    file_sort = lambda x: sorted(x, key =\n",
    "                                         lambda file:\n",
    "                                             max([int(x) for x in findall(\"[0-9]+\", file)])\n",
    "                                    )\n",
    "    try:\n",
    "        distance_files = file_sort(glob(Const.camprt_dir + '**/*distances.csv'))\n",
    "    except:\n",
    "        distance_files = []\n",
    "    try:\n",
    "        dose_files = file_sort(glob(Const.camprt_dir + '**/*centroid*.csv'))\n",
    "    except: \n",
    "        dose_files = []\n",
    "    return {'distances': distance_files, 'doses': dose_files}\n",
    "load_centroid_files()"
   ]
  },
  {
   "cell_type": "code",
   "execution_count": null,
   "metadata": {},
   "outputs": [],
   "source": []
  }
 ],
 "metadata": {
  "kernelspec": {
   "display_name": "Python 3",
   "language": "python",
   "name": "python3"
  },
  "language_info": {
   "codemirror_mode": {
    "name": "ipython",
    "version": 3
   },
   "file_extension": ".py",
   "mimetype": "text/x-python",
   "name": "python",
   "nbconvert_exporter": "python",
   "pygments_lexer": "ipython3",
   "version": "3.8.5"
  }
 },
 "nbformat": 4,
 "nbformat_minor": 4
}
