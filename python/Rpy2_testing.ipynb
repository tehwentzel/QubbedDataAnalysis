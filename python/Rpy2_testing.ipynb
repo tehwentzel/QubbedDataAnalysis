{
 "cells": [
  {
   "cell_type": "code",
   "execution_count": 1,
   "id": "38a9eba5",
   "metadata": {},
   "outputs": [],
   "source": [
    "import rpy2\n",
    "from rpy2.robjects import FloatVector\n",
    "from rpy2.robjects.packages import importr\n",
    "import pandas as pd\n",
    "import numpy as np\n",
    "import Metrics\n",
    "import Utils"
   ]
  },
  {
   "cell_type": "code",
   "execution_count": 2,
   "id": "00b24f4e",
   "metadata": {},
   "outputs": [],
   "source": [
    "rstats = importr('stats')"
   ]
  },
  {
   "cell_type": "code",
   "execution_count": 52,
   "id": "a5474bb8",
   "metadata": {},
   "outputs": [
    {
     "data": {
      "text/html": [
       "\n",
       "        <span>FloatVector with 1 elements.</span>\n",
       "        <table>\n",
       "        <tbody>\n",
       "          <tr>\n",
       "          \n",
       "            <td>\n",
       "            0.050000\n",
       "            </td>\n",
       "          \n",
       "          </tr>\n",
       "        </tbody>\n",
       "        </table>\n",
       "        "
      ],
      "text/plain": [
       "<rpy2.robjects.vectors.FloatVector object at 0x7efe089dae60> [RTYPES.REALSXP]\n",
       "R classes: ('numeric',)\n",
       "[0.050000]"
      ]
     },
     "execution_count": 52,
     "metadata": {},
     "output_type": "execute_result"
    }
   ],
   "source": [
    "def r_fisher_exact(x,y,\n",
    "                   simulate=False,\n",
    "                   alternative='two_sided',\n",
    "                   workspace=2e8,\n",
    "                  ):\n",
    "    x = FloatVector(x)\n",
    "    y = FloatVector(x)\n",
    "    res = rstats.fisher_test(x,y,\n",
    "                             simulate_p_value=simulate,\n",
    "                             workspace=workspace,\n",
    "                             alternative=alternative,\n",
    "                             B=4000,\n",
    "                            )\n",
    "    return res[0]\n",
    "df = pd.DataFrame([\n",
    "    {'x': 1,'y':2},\n",
    "    {'x': 1,'y':2},\n",
    "    {'x': 0,'y':0},\n",
    "    {'x': 1,'y':2},\n",
    "    {'x': 2,'y':4},\n",
    "    {'x': 4,'y':8},\n",
    "])\n",
    "table = Metrics.contingency(df['x'],df['y'])\n",
    "r_fisher_exact(df.x,df.y)"
   ]
  },
  {
   "cell_type": "code",
   "execution_count": 47,
   "id": "5f0b615d",
   "metadata": {},
   "outputs": [
    {
     "data": {
      "text/html": [
       "\n",
       "        <span>FloatVector with 1 elements.</span>\n",
       "        <table>\n",
       "        <tbody>\n",
       "          <tr>\n",
       "          \n",
       "            <td>\n",
       "            0.050000\n",
       "            </td>\n",
       "          \n",
       "          </tr>\n",
       "        </tbody>\n",
       "        </table>\n",
       "        "
      ],
      "text/plain": [
       "<rpy2.robjects.vectors.FloatVector object at 0x7efe089cf730> [RTYPES.REALSXP]\n",
       "R classes: ('numeric',)\n",
       "[0.050000]"
      ]
     },
     "execution_count": 47,
     "metadata": {},
     "output_type": "execute_result"
    }
   ],
   "source": [
    "rstats.fisher_test(FloatVector(df['x']),FloatVector(df['y']),alternative='less')[0]"
   ]
  },
  {
   "cell_type": "code",
   "execution_count": null,
   "id": "f1348e5c",
   "metadata": {},
   "outputs": [],
   "source": []
  }
 ],
 "metadata": {
  "kernelspec": {
   "display_name": "Python [conda env:Qubbed]",
   "language": "python",
   "name": "conda-env-Qubbed-py"
  },
  "language_info": {
   "codemirror_mode": {
    "name": "ipython",
    "version": 3
   },
   "file_extension": ".py",
   "mimetype": "text/x-python",
   "name": "python",
   "nbconvert_exporter": "python",
   "pygments_lexer": "ipython3",
   "version": "3.7.12"
  }
 },
 "nbformat": 4,
 "nbformat_minor": 5
}
