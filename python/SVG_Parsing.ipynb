{
 "cells": [
  {
   "cell_type": "code",
   "execution_count": 6,
   "id": "632f582f-cae0-4b70-aea8-89acc82c5672",
   "metadata": {},
   "outputs": [],
   "source": [
    "from xml.dom import minidom\n",
    "from Constants import Const"
   ]
  },
  {
   "cell_type": "code",
   "execution_count": 2,
   "id": "3acfc8e6-02f2-43ec-ab2e-38f443c693da",
   "metadata": {},
   "outputs": [
    {
     "data": {
      "text/plain": [
       "<xml.dom.minidom.Document at 0x7f2505b465d0>"
      ]
     },
     "execution_count": 2,
     "metadata": {},
     "output_type": "execute_result"
    }
   ],
   "source": [
    "#once we have a well-made svg file we can read it using minidom\n",
    "doc = minidom.parse('../resources/hnc_organs_center.svg')\n",
    "doc"
   ]
  },
  {
   "cell_type": "code",
   "execution_count": 3,
   "id": "3acce548-e2d7-4bc0-8836-39bce6fed969",
   "metadata": {},
   "outputs": [
    {
     "name": "stdout",
     "output_type": "stream",
     "text": [
      "SPC path to draw m -1.6677662,12.060659 -2.90042,-3.2918001 -4.77242,0.12415 -0.052,3.6956001 1.61781,6.60753 2.27335,1.09647 1.73091,0.27005 0.67763,-1.81889 2.66853997,-3.488709 z\n",
      "\n",
      "Genioglossus_M m 16.992447,5.884557\n",
      "Lower_Lip m 23.501105,12.36774\n",
      "Upper_Lip m 23.501105,12.36774\n",
      "SPC m -1.6677662,12.0606\n",
      "Cricoid_cartilage m -6.7207862,-16.876\n",
      "Esophagus m -12.167941,-18.090\n",
      "Tongue m 17.678573,12.27240\n",
      "Extended_Oral_Cavity M 16.822229,16.87878\n",
      "Hard_Palate m 22.983923,19.60442\n",
      "Soft_Palate m 5.7290388,19.92820\n",
      "Brainstem m -13.980735,22.9470\n",
      "Spinal_Cord m -18.569157,-8.8027\n",
      "MPC m -11.007956,2.52979\n",
      "Thyroid_cartilage m 5.6544438,-7.30878\n",
      "Glottic_Area m 4.8667338,-13.6104\n",
      "Larynx m -1.1102262,-18.861\n",
      "Supraglottic_Larynx m -6.2654062,-6.9341\n",
      "Hyoid_bone m -4.1102152,0.59541\n",
      "Cricopharyngeal_Muscle m -9.8281862,-16.617\n",
      "Mylogeniohyoid_M m 8.0393448,0.773338\n",
      "Mandible m 20.806432,10.40751\n",
      "IPC m -8.8525662,-13.638\n",
      "Masseter_M m -1.6677652,12.0606\n"
     ]
    }
   ],
   "source": [
    "#them we extract the names and paths to a dictionary\n",
    "paths = {p.getAttribute('id'): p.getAttribute('d') for p in doc.getElementsByTagName('path')}\n",
    "print('SPC path to draw',paths['SPC'])\n",
    "print()\n",
    "for organname, path in paths.items():\n",
    "    print(organname, path[0:20])"
   ]
  },
  {
   "cell_type": "code",
   "execution_count": 11,
   "id": "91505970-0ded-46d1-a5fb-0493145b16d3",
   "metadata": {},
   "outputs": [],
   "source": [
    "#The actual code I use loads in multiple files and saves them to a single dictionary that is loaded into the front\n",
    "#These names need to line up with the organ_list (sp) in the Frontend/src/modules/Constants.js file\n",
    "def load_organ_svg_file(svg_file,olist=None,keep_center = None):\n",
    "    doc = minidom.parse(svg_file)\n",
    "    paths = {p.getAttribute('id'): p.getAttribute('d') for p in doc.getElementsByTagName('path')}\n",
    "    valid = lambda x: x in olist\n",
    "    #temp thing where i skip the middle stuff for side view\n",
    "    if keep_center is None:\n",
    "        keep_center = 'center' in svg_file\n",
    "    if not keep_center:\n",
    "        valid = lambda x: ('Rt_' in str(x) or 'Lt_' in str(x))\n",
    "        paths = {k:v for k,v in paths.items() if valid(k)}\n",
    "    if olist is not None:\n",
    "        paths = {k:v for k,v in paths.items() if k in olist}\n",
    "    return paths\n",
    "\n",
    "def load_organ_paths(files=None,olist=None):\n",
    "    #the one I actually use\n",
    "    if files is None:\n",
    "        files = ['hnc_organs_center.svg',\n",
    "                 'hnc_organs_right.svg',\n",
    "                 'hnc_organs_left.svg'\n",
    "                ]\n",
    "        files = [Const.resource_dir + f for f in files]\n",
    "    merged_dict = {}\n",
    "    for file in files:\n",
    "        try:\n",
    "            d = load_organ_svg_file(file,olist,keep_center='center' in file)\n",
    "            for k,v in d.items():\n",
    "                merged_dict[k] = v\n",
    "        except Exception as e:\n",
    "            print(e)\n",
    "    return merged_dict\n",
    "\n",
    "organ_paths = load_organ_paths()"
   ]
  },
  {
   "cell_type": "code",
   "execution_count": 13,
   "id": "6ad26203-13fd-431e-95e9-2b46c7e6d693",
   "metadata": {},
   "outputs": [
    {
     "name": "stdout",
     "output_type": "stream",
     "text": [
      "dict_keys(['Genioglossus_M', 'Lower_Lip', 'Upper_Lip', 'SPC', 'Cricoid_cartilage', 'Esophagus', 'Tongue', 'Extended_Oral_Cavity', 'Hard_Palate', 'Soft_Palate', 'Brainstem', 'Spinal_Cord', 'MPC', 'Thyroid_cartilage', 'Glottic_Area', 'Larynx', 'Supraglottic_Larynx', 'Hyoid_bone', 'Cricopharyngeal_Muscle', 'Mylogeniohyoid_M', 'Mandible', 'IPC', 'Masseter_M', 'Rt_Ant_Digastric_M', 'Rt_thyroid_lobe', 'Rt_Parotid_Gland', 'Rt_Masseter_M', 'Rt_Lateral_Pterygoid_M', 'Rt_Medial_Pterygoid_M', 'Rt_Sternocleidomastoid_M', 'Rt_Brachial_Plexus', 'Rt_Submandibular_Gland', 'Lt_Submandibular_Gland', 'Lt_Ant_Digastric_M', 'Lt_Parotid_Gland', 'Lt_Masseter_M', 'Lt_Lateral_Pterygoid_M', 'Lt_Medial_Pterygoid_M', 'Lt_Sternocleidomastoid_M', 'Lt_Brachial_Plexus', 'Lt_thyroid_lobe'])\n"
     ]
    }
   ],
   "source": [
    "import json\n",
    "with open('../resources/test_organ_svg_paths.json','w') as f:\n",
    "    json.dump(organ_paths,f)\n",
    "with open('../resources/test_organ_svg_paths.json','r') as f:\n",
    "    print(json.load(f).keys())"
   ]
  },
  {
   "cell_type": "code",
   "execution_count": null,
   "id": "dcc86438-dbf3-4091-94d5-c47a0adda957",
   "metadata": {},
   "outputs": [],
   "source": []
  }
 ],
 "metadata": {
  "kernelspec": {
   "display_name": "Python 3 (ipykernel)",
   "language": "python",
   "name": "python3"
  },
  "language_info": {
   "codemirror_mode": {
    "name": "ipython",
    "version": 3
   },
   "file_extension": ".py",
   "mimetype": "text/x-python",
   "name": "python",
   "nbconvert_exporter": "python",
   "pygments_lexer": "ipython3",
   "version": "3.12.7"
  }
 },
 "nbformat": 4,
 "nbformat_minor": 5
}
